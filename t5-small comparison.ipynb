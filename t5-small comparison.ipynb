{
  "cells": [
    {
      "cell_type": "code",
      "source": [
        "from transformers import T5Tokenizer, T5ForConditionalGeneration\n",
        "import torch"
      ],
      "metadata": {
        "id": "f5S6uPIXjyQd"
      },
      "execution_count": 1,
      "outputs": []
    },
    {
      "cell_type": "code",
      "source": [
        "model_id = \"t5-small\" # Hugging Face Model Id\n",
        "tokenizer = T5Tokenizer.from_pretrained(model_id)\n",
        "model_1 = T5ForConditionalGeneration.from_pretrained(model_id)\n",
        "model_2 = T5ForConditionalGeneration.from_pretrained(model_id)"
      ],
      "metadata": {
        "id": "j6ngFpJNkGqg"
      },
      "execution_count": 5,
      "outputs": []
    },
    {
      "cell_type": "code",
      "source": [
        "model_2.load_state_dict(torch.load('fined_tuned_model_3.pth'))"
      ],
      "metadata": {
        "id": "qu2w2hqppaZy",
        "outputId": "4a088ba8-d8f1-4432-9e78-4b2c3c4fbeff",
        "colab": {
          "base_uri": "https://localhost:8080/"
        }
      },
      "execution_count": 6,
      "outputs": [
        {
          "output_type": "execute_result",
          "data": {
            "text/plain": [
              "<All keys matched successfully>"
            ]
          },
          "metadata": {},
          "execution_count": 6
        }
      ]
    },
    {
      "cell_type": "code",
      "source": [
        "# text = 'Translate English to French: How are you'\n",
        "# text = 'Translate French to English: ta mère aime manger des biscuits'\n",
        "text = 'Translate French to English: Je m\\'appelle Slim Shady'\n",
        "input_id = tokenizer(text,return_tensors='pt').input_ids\n",
        "outputs_1 = model_1.generate(input_id)\n",
        "outputs_2 = model_2.generate(input_id)\n",
        "print(tokenizer.decode(outputs_1[0], skip_special_tokens=True))\n",
        "print(tokenizer.decode(outputs_2[0], skip_special_tokens=True))"
      ],
      "metadata": {
        "id": "vdWHxWP7kVva",
        "outputId": "984d251b-bc32-49a1-ebc2-bc9b67acb6ce",
        "colab": {
          "base_uri": "https://localhost:8080/"
        }
      },
      "execution_count": 16,
      "outputs": [
        {
          "output_type": "stream",
          "name": "stdout",
          "text": [
            "Je m'appelle Slim Shady\n",
            "- if you have any further questions, ask your doctor or pharmacist.\n"
          ]
        }
      ]
    },
    {
      "cell_type": "code",
      "source": [
        "print(outputs_1)"
      ],
      "metadata": {
        "id": "MiBKwyk9oJpu",
        "outputId": "dbe5d22c-66eb-4f4b-aeed-bc84b74073fc",
        "colab": {
          "base_uri": "https://localhost:8080/"
        }
      },
      "execution_count": 29,
      "outputs": [
        {
          "output_type": "stream",
          "name": "stdout",
          "text": [
            "tensor([[    0,  2682, 18359,     1]])\n"
          ]
        }
      ]
    }
  ],
  "metadata": {
    "colab": {
      "name": "Welcome To Colab",
      "provenance": [],
      "gpuType": "A100"
    },
    "kernelspec": {
      "display_name": "Python 3",
      "name": "python3"
    },
    "accelerator": "GPU"
  },
  "nbformat": 4,
  "nbformat_minor": 0
}