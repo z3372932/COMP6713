{
 "cells": [
  {
   "cell_type": "code",
   "execution_count": null,
   "id": "ca75e98b",
   "metadata": {},
   "outputs": [],
   "source": [
    "import nltk\n",
    "import sacrebleu\n",
    "from nltk.translate.meteor_score import meteor_score\n",
    "from bert_score import score\n",
    "import pandas as pd"
   ]
  },
  {
   "cell_type": "code",
   "execution_count": 2,
   "id": "769aaa4e",
   "metadata": {},
   "outputs": [
    {
     "data": {
      "text/html": [
       "<div>\n",
       "<style scoped>\n",
       "    .dataframe tbody tr th:only-of-type {\n",
       "        vertical-align: middle;\n",
       "    }\n",
       "\n",
       "    .dataframe tbody tr th {\n",
       "        vertical-align: top;\n",
       "    }\n",
       "\n",
       "    .dataframe thead th {\n",
       "        text-align: right;\n",
       "    }\n",
       "</style>\n",
       "<table border=\"1\" class=\"dataframe\">\n",
       "  <thead>\n",
       "    <tr style=\"text-align: right;\">\n",
       "      <th></th>\n",
       "      <th>input</th>\n",
       "      <th>generated</th>\n",
       "      <th>reference</th>\n",
       "    </tr>\n",
       "  </thead>\n",
       "  <tbody>\n",
       "    <tr>\n",
       "      <th>0</th>\n",
       "      <td>Tel: +31 (0)182 557 755</td>\n",
       "      <td>Tel: +31 (0)182 557 755</td>\n",
       "      <td>Tel: +31 (0)182 557 755</td>\n",
       "    </tr>\n",
       "    <tr>\n",
       "      <th>1</th>\n",
       "      <td>5.3 Données de sécurité précliniques Les donné...</td>\n",
       "      <td>5.3 Pre-clinical safety data Preclinial data f...</td>\n",
       "      <td>5.3 Preclinical safety data Preclinical data r...</td>\n",
       "    </tr>\n",
       "  </tbody>\n",
       "</table>\n",
       "</div>"
      ],
      "text/plain": [
       "                                               input  \\\n",
       "0                            Tel: +31 (0)182 557 755   \n",
       "1  5.3 Données de sécurité précliniques Les donné...   \n",
       "\n",
       "                                           generated  \\\n",
       "0                            Tel: +31 (0)182 557 755   \n",
       "1  5.3 Pre-clinical safety data Preclinial data f...   \n",
       "\n",
       "                                           reference  \n",
       "0                            Tel: +31 (0)182 557 755  \n",
       "1  5.3 Preclinical safety data Preclinical data r...  "
      ]
     },
     "execution_count": 2,
     "metadata": {},
     "output_type": "execute_result"
    }
   ],
   "source": [
    "model_name = \"legal_t5\"\n",
    "output_csv_file = f\"{model_name}_translation_results.csv\"\n",
    "results = pd.read_csv(output_csv_file)\n",
    "results.head(2)"
   ]
  },
  {
   "cell_type": "code",
   "execution_count": 3,
   "id": "2ebdca68",
   "metadata": {},
   "outputs": [
    {
     "name": "stdout",
     "output_type": "stream",
     "text": [
      "BLEU score: 34.11146183808727\n"
     ]
    }
   ],
   "source": [
    "# BLEU score\n",
    "results[\"generated\"] = results[\"generated\"].astype(str)\n",
    "results[\"reference\"] = results[\"reference\"].astype(str)\n",
    "\n",
    "# Extract the generated and reference translations\n",
    "generated = results[\"generated\"].tolist()\n",
    "references = [results[\"reference\"].tolist()]\n",
    "\n",
    "# Calculate BLEU score\n",
    "bleu = sacrebleu.corpus_bleu(generated, references)\n",
    "\n",
    "print(f\"BLEU score: {bleu.score}\")"
   ]
  },
  {
   "cell_type": "code",
   "execution_count": 4,
   "id": "ea1ab3d9",
   "metadata": {},
   "outputs": [
    {
     "name": "stderr",
     "output_type": "stream",
     "text": [
      "[nltk_data] Downloading package wordnet to\n",
      "[nltk_data]     C:\\Users\\micha\\AppData\\Roaming\\nltk_data...\n",
      "[nltk_data]   Package wordnet is already up-to-date!\n"
     ]
    },
    {
     "name": "stdout",
     "output_type": "stream",
     "text": [
      "Overall METEOR score: 0.521641947816436\n"
     ]
    }
   ],
   "source": [
    "# METEOR score\n",
    "nltk.download('wordnet')\n",
    "\n",
    "results[\"generated\"] = results[\"generated\"].astype(str)\n",
    "results[\"reference\"] = results[\"reference\"].astype(str)\n",
    "\n",
    "# Example DataFrame\n",
    "data = {\n",
    "    \"hypothesis\": results[\"generated\"],\n",
    "    \"reference\": results[\"reference\"]\n",
    "}\n",
    "combined_results = pd.DataFrame(data)\n",
    "\n",
    "# Tokenize the strings\n",
    "combined_results[\"hypothesis\"] = combined_results[\"hypothesis\"].apply(lambda x: x.split())\n",
    "combined_results[\"reference\"] = combined_results[\"reference\"].apply(lambda x: x.split())\n",
    "\n",
    "# Calculate METEOR scores for each row\n",
    "combined_results[\"meteor_score\"] = combined_results.apply(lambda row: meteor_score([row[\"reference\"]], row[\"hypothesis\"]), axis=1)\n",
    "\n",
    "overall_meteor_score = combined_results[\"meteor_score\"].mean()\n",
    "\n",
    "print(f\"Overall METEOR score: {overall_meteor_score}\")"
   ]
  },
  {
   "cell_type": "code",
   "execution_count": null,
   "id": "ea620c84",
   "metadata": {},
   "outputs": [
    {
     "name": "stdout",
     "output_type": "stream",
     "text": [
      "Overall BERTScore: 0.9162254946862581\n"
     ]
    }
   ],
   "source": [
    "# BERT Score\n",
    "data = {\n",
    "    \"hypothesis\": results[\"generated\"],\n",
    "    \"reference\": results[\"reference\"]\n",
    "}\n",
    "combined_results = pd.DataFrame(data)\n",
    "\n",
    "# Extract the hypothesis and reference as lists\n",
    "hypotheses = combined_results[\"hypothesis\"].tolist()\n",
    "references = combined_results[\"reference\"].tolist()\n",
    "\n",
    "# Set a batch size for processing\n",
    "batch_size = 128\n",
    "\n",
    "# Initialize lists to store batch results\n",
    "all_F1_scores = []\n",
    "\n",
    "# Process the data in batches\n",
    "for i in range(0, len(hypotheses), batch_size):\n",
    "    # Get the current batch\n",
    "    batch_hypotheses = hypotheses[i:i+batch_size]\n",
    "    batch_references = references[i:i+batch_size]\n",
    "    \n",
    "    # Calculate BERTScore for the current batch\n",
    "    P, R, F1 = score(batch_hypotheses, batch_references, model_type=\"distilbert-base-uncased\", lang=\"en\", verbose=True)\n",
    "    \n",
    "    # Append the F1 scores to the list\n",
    "    all_F1_scores.extend(F1.tolist())\n",
    "\n",
    "    clear_output(wait=True)\n",
    "\n",
    "# Compute the overall BERTScore (mean of all F1 scores)\n",
    "overall_bert_score = sum(all_F1_scores) / len(all_F1_scores)\n",
    "print(f\"Overall BERTScore: {overall_bert_score}\")\n"
   ]
  }
 ],
 "metadata": {
  "kernelspec": {
   "display_name": "COMP6713v3.10",
   "language": "python",
   "name": "python3"
  },
  "language_info": {
   "codemirror_mode": {
    "name": "ipython",
    "version": 3
   },
   "file_extension": ".py",
   "mimetype": "text/x-python",
   "name": "python",
   "nbconvert_exporter": "python",
   "pygments_lexer": "ipython3",
   "version": "3.10.0"
  }
 },
 "nbformat": 4,
 "nbformat_minor": 5
}
