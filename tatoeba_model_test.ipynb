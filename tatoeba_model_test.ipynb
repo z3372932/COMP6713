{
  "cells": [
    {
      "cell_type": "code",
      "source": [
        "from transformers import T5Tokenizer, T5ForConditionalGeneration\n",
        "import torch\n",
        "\n",
        "model_id = \"oliverli0414/t5-small-tatoeba_finetuned\" # Hugging Face Model Id\n",
        "tokenizer = T5Tokenizer.from_pretrained(model_id)\n",
        "model = T5ForConditionalGeneration.from_pretrained(model_id)"
      ],
      "metadata": {
        "id": "0yNWihngwhLY"
      },
      "execution_count": 3,
      "outputs": []
    },
    {
      "cell_type": "code",
      "source": [
        "text = 'Translate French to English: ta mère aime les cookies'\n",
        "input_id = tokenizer(text, return_tensors='pt').input_ids\n",
        "output_id = model.generate(input_id)\n",
        "print(tokenizer.decode(output_id[0],skip_special_tokens=True))"
      ],
      "metadata": {
        "id": "5bYdCnv1wI9m",
        "outputId": "ae2664bd-360a-4aa1-cd70-981d8005cf8e",
        "colab": {
          "base_uri": "https://localhost:8080/"
        }
      },
      "execution_count": 5,
      "outputs": [
        {
          "output_type": "stream",
          "name": "stdout",
          "text": [
            "Your mother likes cookies.\n"
          ]
        }
      ]
    }
  ],
  "metadata": {
    "colab": {
      "name": "Welcome To Colab",
      "provenance": [],
      "gpuType": "A100"
    },
    "kernelspec": {
      "display_name": "Python 3",
      "name": "python3"
    },
    "accelerator": "GPU"
  },
  "nbformat": 4,
  "nbformat_minor": 0
}